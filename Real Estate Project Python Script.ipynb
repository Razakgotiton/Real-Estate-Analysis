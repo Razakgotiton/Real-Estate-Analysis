{
 "cells": [
  {
   "cell_type": "markdown",
   "id": "8244a759",
   "metadata": {},
   "source": [
    "About the Datasets\n",
    "\n",
    "Real Estate Investment Opportunities Analysis\n",
    "\n",
    "This Python script analyzes a real estate dataset to identify potential investment opportunities in the market. The dataset, \"realtor-data.csv,\" contains information about various properties, including their housing status, number of bedrooms and bathrooms, land size, location details (city, state, and zip code), house size, previous sold date, and price.\n",
    "\n",
    "The goal of this analysis is to gain insights into the real estate market and discover patterns or trends that indicate promising areas for investment. By examining factors such as housing status, location, property size, and price, we aim to identify areas with high investment potential and make informed decisions.\n",
    "\n",
    "The script performs the following steps:\n",
    "\n",
    "1. Data Exploration: Loads the dataset, displays the first few rows, and examines its structure and contents.\n",
    "\n",
    "2. Location Analysis: Analyzes location factors by calculating the average price in different cities, identifying areas with higher investment potential.\n",
    "\n",
    "3. Property Size Analysis: Examines the average house sizes based on the number of bedrooms to identify properties with desirable sizes for investment.\n",
    "\n",
    "4. Price Analysis: Analyzes the pricing dynamics in different locations and property sizes to identify areas with potential value appreciation.\n"
   ]
  },
  {
   "cell_type": "markdown",
   "id": "8d0a4ec1",
   "metadata": {},
   "source": [
    "import pandas as pd\n",
    "import numpy as np"
   ]
  },
  {
   "cell_type": "code",
   "execution_count": 60,
   "id": "535b6a0a",
   "metadata": {},
   "outputs": [],
   "source": [
    "import pandas as pd \n",
    "import numpy as np"
   ]
  },
  {
   "cell_type": "code",
   "execution_count": 58,
   "id": "430f32cd",
   "metadata": {},
   "outputs": [],
   "source": [
    "df=pd.read_csv('realtor-data.csv')"
   ]
  },
  {
   "cell_type": "code",
   "execution_count": 26,
   "id": "8f82ef84",
   "metadata": {},
   "outputs": [
    {
     "name": "stdout",
     "output_type": "stream",
     "text": [
      "<class 'pandas.core.frame.DataFrame'>\n",
      "Int64Index: 81408 entries, 829 to 305988\n",
      "Data columns (total 10 columns):\n",
      " #   Column          Non-Null Count  Dtype  \n",
      "---  ------          --------------  -----  \n",
      " 0   status          81408 non-null  object \n",
      " 1   bed             81408 non-null  float64\n",
      " 2   bath            81408 non-null  float64\n",
      " 3   acre_lot        81408 non-null  float64\n",
      " 4   city            81408 non-null  object \n",
      " 5   state           81408 non-null  object \n",
      " 6   zip_code        81408 non-null  float64\n",
      " 7   house_size      81408 non-null  float64\n",
      " 8   prev_sold_date  81408 non-null  object \n",
      " 9   price           81408 non-null  float64\n",
      "dtypes: float64(6), object(4)\n",
      "memory usage: 6.8+ MB\n",
      "None\n",
      "        status  bed  bath  acre_lot    city        state  zip_code  \\\n",
      "829   for_sale  7.0   3.0      0.09  Dorado  Puerto Rico     949.0   \n",
      "3380  for_sale  7.0   3.0      0.09  Dorado  Puerto Rico     949.0   \n",
      "5083  for_sale  7.0   3.0      0.09  Dorado  Puerto Rico     949.0   \n",
      "5387  for_sale  7.0   3.0      0.09  Dorado  Puerto Rico     949.0   \n",
      "9053  for_sale  7.0   3.0      0.09  Dorado  Puerto Rico     949.0   \n",
      "\n",
      "      house_size prev_sold_date     price  \n",
      "829       1192.0     2019-06-28  110000.0  \n",
      "3380      1192.0     2019-06-28  110000.0  \n",
      "5083      1192.0     2019-06-28  110000.0  \n",
      "5387      1192.0     2019-06-28  110000.0  \n",
      "9053      1192.0     2019-06-28  110000.0  \n"
     ]
    }
   ],
   "source": [
    "print(df.info())\n",
    "print(df.head())"
   ]
  },
  {
   "cell_type": "code",
   "execution_count": 23,
   "id": "2497212c",
   "metadata": {},
   "outputs": [],
   "source": [
    "# Drop rows with empty values\n",
    "df.dropna(inplace=True)"
   ]
  },
  {
   "cell_type": "code",
   "execution_count": 24,
   "id": "46811468",
   "metadata": {},
   "outputs": [],
   "source": [
    "from scipy import stats\n",
    "df = df[(np.abs(stats.zscore(df['house_size'])) < 3)]"
   ]
  },
  {
   "cell_type": "code",
   "execution_count": 27,
   "id": "911c752d",
   "metadata": {},
   "outputs": [
    {
     "name": "stdout",
     "output_type": "stream",
     "text": [
      "                bed          bath      acre_lot      zip_code    house_size  \\\n",
      "count  81408.000000  81408.000000  81408.000000  81408.000000  81408.000000   \n",
      "mean       3.596502      2.480383      3.536539   2743.416482   2199.408043   \n",
      "std        1.485178      1.224916    198.032219   1499.098007   1235.649866   \n",
      "min        1.000000      1.000000      0.000000    802.000000    170.000000   \n",
      "25%        3.000000      2.000000      0.130000   1854.000000   1318.000000   \n",
      "50%        3.000000      2.000000      0.280000   2446.000000   1864.000000   \n",
      "75%        4.000000      3.000000      0.770000   2919.000000   2726.000000   \n",
      "max       15.000000     14.000000  18817.000000  12594.000000   7500.000000   \n",
      "\n",
      "              price  \n",
      "count  8.140800e+04  \n",
      "mean   7.284590e+05  \n",
      "std    8.600585e+05  \n",
      "min    1.000000e+04  \n",
      "25%    3.349000e+05  \n",
      "50%    4.999000e+05  \n",
      "75%    7.800000e+05  \n",
      "max    1.550000e+07  \n"
     ]
    }
   ],
   "source": [
    "print(df.describe())"
   ]
  },
  {
   "cell_type": "code",
   "execution_count": 28,
   "id": "15da212e",
   "metadata": {},
   "outputs": [
    {
     "name": "stdout",
     "output_type": "stream",
     "text": [
      "Overall Average Price: 728459.020599941\n",
      "status\n",
      "for_sale    728459.0206\n",
      "Name: price, dtype: float64\n",
      "city\n",
      "Abington         558360.240964\n",
      "Acton            849036.651584\n",
      "Adams            217142.857143\n",
      "Agawam           394937.108527\n",
      "Alexandria       326500.000000\n",
      "                     ...      \n",
      "Worthington      750000.000000\n",
      "Wrentham         407778.260870\n",
      "Yarmouth         573187.500000\n",
      "Yarmouth Port    677364.000000\n",
      "York             602475.000000\n",
      "Name: price, Length: 693, dtype: float64\n",
      "state\n",
      "Connecticut       3.941720e+05\n",
      "Maine             6.062134e+05\n",
      "Massachusetts     8.845269e+05\n",
      "New Hampshire     5.534547e+05\n",
      "New York          8.971288e+05\n",
      "Puerto Rico       1.100000e+05\n",
      "Rhode Island      4.702061e+05\n",
      "Vermont           3.499524e+05\n",
      "Virgin Islands    3.924500e+06\n",
      "Name: price, dtype: float64\n",
      "zip_code\n",
      "802.0      3.924500e+06\n",
      "949.0      1.100000e+05\n",
      "1001.0     3.556482e+05\n",
      "1002.0     5.958237e+05\n",
      "1005.0     4.467077e+05\n",
      "               ...     \n",
      "12571.0    1.322271e+06\n",
      "12578.0    1.425000e+06\n",
      "12581.0    6.032667e+05\n",
      "12592.0    1.786483e+06\n",
      "12594.0    3.404833e+05\n",
      "Name: price, Length: 987, dtype: float64\n"
     ]
    }
   ],
   "source": [
    "# Overall average price\n",
    "overall_avg_price = df['price'].mean()\n",
    "print(\"Overall Average Price:\", overall_avg_price)\n",
    "\n",
    "# Average price by housing status\n",
    "status_avg_price = df.groupby('status')['price'].mean()\n",
    "print(status_avg_price)\n",
    "\n",
    "# Average price by city\n",
    "city_avg_price = df.groupby('city')['price'].mean()\n",
    "print(city_avg_price)\n",
    "\n",
    "# Average price by state\n",
    "state_avg_price = df.groupby('state')['price'].mean()\n",
    "print(state_avg_price)\n",
    "\n",
    "# Average price by zip code\n",
    "zipcode_avg_price = df.groupby('zip_code')['price'].mean()\n",
    "print(zipcode_avg_price)\n"
   ]
  },
  {
   "cell_type": "code",
   "execution_count": 29,
   "id": "015df447",
   "metadata": {},
   "outputs": [
    {
     "name": "stdout",
     "output_type": "stream",
     "text": [
      "for_sale    81408\n",
      "Name: status, dtype: int64\n"
     ]
    },
    {
     "data": {
      "image/png": "[encoded data removed]",
      "text/plain": [
       "<Figure size 640x480 with 1 Axes>"
      ]
     },
     "metadata": {},
     "output_type": "display_data"
    }
   ],
   "source": [
    "# Count the number of properties in each housing status category\n",
    "status_distribution = df['status'].value_counts()\n",
    "print(status_distribution)\n",
    "\n",
    "# Visualize the distribution using a bar plot\n",
    "import matplotlib.pyplot as plt\n",
    "\n",
    "plt.bar(status_distribution.index, status_distribution.values)\n",
    "plt.xlabel('Housing Status')\n",
    "plt.ylabel('Count')\n",
    "plt.title('Distribution of Housing Statuses')\n",
    "plt.show()\n"
   ]
  },
  {
   "cell_type": "code",
   "execution_count": 30,
   "id": "9d8007b2",
   "metadata": {},
   "outputs": [
    {
     "name": "stdout",
     "output_type": "stream",
     "text": [
      "Top 10 Popular Cities:\n",
      "Boston         6822\n",
      "Providence     2306\n",
      "Worcester      1501\n",
      "Springfield    1446\n",
      "Woonsocket     1094\n",
      "Pawtucket      1064\n",
      "Newton         1032\n",
      "Manchester      991\n",
      "Cranston        970\n",
      "Pittsfield      899\n",
      "Name: city, dtype: int64\n",
      "Top 10 Popular States:\n",
      "Massachusetts     49357\n",
      "Rhode Island      12610\n",
      "New Hampshire      9293\n",
      "Connecticut        7125\n",
      "Maine              1750\n",
      "Vermont             807\n",
      "New York            440\n",
      "Puerto Rico          20\n",
      "Virgin Islands        6\n",
      "Name: state, dtype: int64\n"
     ]
    }
   ],
   "source": [
    "# Count the number of properties in each city\n",
    "city_counts = df['city'].value_counts()\n",
    "\n",
    "# Count the number of properties in each state\n",
    "state_counts = df['state'].value_counts()\n",
    "\n",
    "# Print the top 10 popular cities and states\n",
    "print(\"Top 10 Popular Cities:\")\n",
    "print(city_counts.head(10))\n",
    "\n",
    "print(\"Top 10 Popular States:\")\n",
    "print(state_counts.head(10))\n"
   ]
  },
  {
   "cell_type": "markdown",
   "id": "c73ba276",
   "metadata": {},
   "source": [
    "Boston, being the most popular state with 49357 properties listed, presents a high demand for real estate. This suggests that the real estate market in Boston is active and potentially competitive. If you are interested in investing or selling properties, focusing on Massachusetts could offer good opportunities."
   ]
  },
  {
   "cell_type": "code",
   "execution_count": 31,
   "id": "f11d8afc",
   "metadata": {},
   "outputs": [
    {
     "data": {
      "image/png": "[encoded data removed]",
      "text/plain": [
       "<Figure size 640x480 with 1 Axes>"
      ]
     },
     "metadata": {},
     "output_type": "display_data"
    },
    {
     "name": "stdout",
     "output_type": "stream",
     "text": [
      "Coefficient: 355.47839169376897\n",
      "Intercept: -53383.01335886202\n"
     ]
    }
   ],
   "source": [
    "# Plot a scatter plot to visualize the relationship between house size and price\n",
    "plt.scatter(df['house_size'], df['price'])\n",
    "plt.xlabel('House Size (sqft)')\n",
    "plt.ylabel('Price')\n",
    "plt.title('Relationship between House Size and Price')\n",
    "plt.show()\n",
    "\n",
    "# Alternatively, you can create a regression model to quantify the relationship\n",
    "from sklearn.linear_model import LinearRegression\n",
    "\n",
    "X = df[['house_size']]\n",
    "y = df['price']\n",
    "\n",
    "model = LinearRegression()\n",
    "model.fit(X, y)\n",
    "\n",
    "# Print the coefficient and intercept of the regression line\n",
    "print(\"Coefficient:\", model.coef_[0])\n",
    "print(\"Intercept:\", model.intercept_)\n"
   ]
  },
  {
   "cell_type": "markdown",
   "id": "34b7b8cf",
   "metadata": {},
   "source": [
    "Consider the coefficient value: The coefficient of 355.478 suggests that, on average, each additional square foot of house size is associated with an increase of approximately $355.48 in the price of the property. This information can be useful for homeowners, real estate agents, or developers when determining the value of a property based on its size.\n",
    "\n",
    "Evaluate the intercept value: The intercept of -53383.013 indicates the estimated price of a property with zero square footage. While this value is not practically meaningful, it represents the baseline price that the model predicts when the house size is zero. It's important to interpret the intercept within the context of the dataset and consider the minimum house size available in the dataset to ensure the recommendations are realistic."
   ]
  },
  {
   "cell_type": "code",
   "execution_count": 49,
   "id": "d73e2060",
   "metadata": {},
   "outputs": [
    {
     "name": "stdout",
     "output_type": "stream",
     "text": [
      "bed\n",
      "13.0    5665.558140\n",
      "14.0    5104.000000\n",
      "15.0    5100.000000\n",
      "10.0    4907.051546\n",
      "11.0    4651.336449\n",
      "12.0    4416.932127\n",
      "9.0     4270.466267\n",
      "8.0     4001.234456\n",
      "7.0     3925.431276\n",
      "6.0     3561.774353\n",
      "5.0     3529.504784\n",
      "4.0     2598.118833\n",
      "3.0     1744.170533\n",
      "2.0     1191.423658\n",
      "1.0      881.900000\n",
      "Name: house_size, dtype: float64\n"
     ]
    }
   ],
   "source": [
    "# Calculate the average house size by number of bedrooms\n",
    "average_house_size_by_bedrooms = df.groupby('bed')['house_size'].mean()\n",
    "\n",
    "# Sort the average house sizes based on bedrooms\n",
    "sorted_house_sizes = average_house_size_by_bedrooms.sort_values(ascending=False)\n",
    "\n",
    "# Display the average house sizes by bedrooms\n",
    "print(sorted_house_sizes)\n"
   ]
  },
  {
   "cell_type": "code",
   "execution_count": 50,
   "id": "37481738",
   "metadata": {},
   "outputs": [
    {
     "name": "stdout",
     "output_type": "stream",
     "text": [
      "house_size\n",
      "5709.0    15300000.0\n",
      "4706.0    15000000.0\n",
      "4244.0    14500000.0\n",
      "5079.0    13600000.0\n",
      "5085.0    12750000.0\n",
      "             ...    \n",
      "634.0        65000.0\n",
      "712.0        50000.0\n",
      "690.0        40000.0\n",
      "3727.0       24900.0\n",
      "3281.0       10000.0\n",
      "Name: price, Length: 2913, dtype: float64\n"
     ]
    }
   ],
   "source": [
    "# Calculate the average price by property size\n",
    "average_price_by_size = df.groupby('house_size')['price'].mean()\n",
    "\n",
    "# Sort the average prices based on property size\n",
    "sorted_prices_by_size = average_price_by_size.sort_values(ascending=False)\n",
    "\n",
    "# Display the average prices by property size\n",
    "print(sorted_prices_by_size)\n"
   ]
  },
  {
   "cell_type": "code",
   "execution_count": 52,
   "id": "27b7d458",
   "metadata": {},
   "outputs": [
    {
     "name": "stdout",
     "output_type": "stream",
     "text": [
      "         status  bed  bath  acre_lot city          state  zip_code  \\\n",
      "66285  for_sale  3.0   2.0      0.17  Lee  Massachusetts    1238.0   \n",
      "54624  for_sale  3.0   2.0      0.17  Lee  Massachusetts    1238.0   \n",
      "57391  for_sale  3.0   2.0      0.17  Lee  Massachusetts    1238.0   \n",
      "58012  for_sale  3.0   2.0      0.17  Lee  Massachusetts    1238.0   \n",
      "58567  for_sale  3.0   2.0      0.17  Lee  Massachusetts    1238.0   \n",
      "\n",
      "       house_size prev_sold_date     price  \n",
      "66285      1922.0     1901-01-01  339000.0  \n",
      "54624      1922.0     1901-01-01  339000.0  \n",
      "57391      1922.0     1901-01-01  339000.0  \n",
      "58012      1922.0     1901-01-01  339000.0  \n",
      "58567      1922.0     1901-01-01  339000.0  \n"
     ]
    }
   ],
   "source": [
    "# Filter the dataset for properties ready for sale\n",
    "df_for_sale = df[df['status'] == 'for_sale']\n",
    "\n",
    "# Display the filtered dataset\n",
    "print(df_for_sale.head())\n"
   ]
  },
  {
   "cell_type": "code",
   "execution_count": 53,
   "id": "bece875f",
   "metadata": {},
   "outputs": [
    {
     "name": "stdout",
     "output_type": "stream",
     "text": [
      "city\n",
      "Chilmark           8.591667e+06\n",
      "New Marlborough    6.841000e+06\n",
      "Tisbury            5.750000e+06\n",
      "Montauk            4.822522e+06\n",
      "Weston             4.619735e+06\n",
      "Nantucket          4.535577e+06\n",
      "East Dennis        3.995000e+06\n",
      "Saint Thomas       3.924500e+06\n",
      "Sanbornton         3.895000e+06\n",
      "Vineyard Haven     3.716041e+06\n",
      "Name: price, dtype: float64\n"
     ]
    }
   ],
   "source": [
    "# Group the data by city and calculate the average price\n",
    "average_price_by_city = df_for_sale.groupby('city')['price'].mean()\n",
    "\n",
    "# Sort the cities based on average price in descending order\n",
    "sorted_cities = average_price_by_city.sort_values(ascending=False)\n",
    "\n",
    "# Display the top 10 cities with the highest average price\n",
    "print(sorted_cities.head(10))\n"
   ]
  },
  {
   "cell_type": "code",
   "execution_count": 54,
   "id": "628b1b75",
   "metadata": {},
   "outputs": [
    {
     "name": "stdout",
     "output_type": "stream",
     "text": [
      "bed\n",
      "13.0    5665.558140\n",
      "14.0    5104.000000\n",
      "15.0    5100.000000\n",
      "10.0    4907.051546\n",
      "11.0    4651.336449\n",
      "12.0    4416.932127\n",
      "9.0     4270.466267\n",
      "8.0     4001.234456\n",
      "7.0     3925.431276\n",
      "6.0     3561.774353\n",
      "5.0     3529.504784\n",
      "4.0     2598.118833\n",
      "3.0     1744.170533\n",
      "2.0     1191.423658\n",
      "1.0      881.900000\n",
      "Name: house_size, dtype: float64\n"
     ]
    }
   ],
   "source": [
    "# Calculate the average house size by number of bedrooms\n",
    "average_house_size_by_bedrooms = df_for_sale.groupby('bed')['house_size'].mean()\n",
    "\n",
    "# Sort the average house sizes based on bedrooms\n",
    "sorted_house_sizes = average_house_size_by_bedrooms.sort_values(ascending=False)\n",
    "\n",
    "# Display the average house sizes by bedrooms\n",
    "print(sorted_house_sizes)\n"
   ]
  },
  {
   "cell_type": "code",
   "execution_count": 55,
   "id": "ab51a5d0",
   "metadata": {},
   "outputs": [
    {
     "name": "stdout",
     "output_type": "stream",
     "text": [
      "house_size\n",
      "5709.0    15300000.0\n",
      "4706.0    15000000.0\n",
      "4244.0    14500000.0\n",
      "5079.0    13600000.0\n",
      "5085.0    12750000.0\n",
      "             ...    \n",
      "634.0        65000.0\n",
      "712.0        50000.0\n",
      "690.0        40000.0\n",
      "3727.0       24900.0\n",
      "3281.0       10000.0\n",
      "Name: price, Length: 2913, dtype: float64\n"
     ]
    }
   ],
   "source": [
    "# Calculate the average price by property size\n",
    "average_price_by_size = df_for_sale.groupby('house_size')['price'].mean()\n",
    "\n",
    "# Sort the average prices based on property size\n",
    "sorted_prices_by_size = average_price_by_size.sort_values(ascending=False)\n",
    "\n",
    "# Display the average prices by property size\n",
    "print(sorted_prices_by_size)\n"
   ]
  },
  {
   "cell_type": "markdown",
   "id": "f62ef759",
   "metadata": {},
   "source": [
    "Recommendations\n",
    "\n",
    "- Location Recommendations: \n",
    "1.  Chilmark: With an average price of $8,591,667, Chilmark shows high investment potential.\n",
    "\n",
    "2.  New Marlborough: Properties in New Marlborough have an average price of $6,841,000, indicating a promising area for investment.\n",
    "\n",
    "3.  Tisbury: The average price of $5,750,000 in Tisbury suggests it is an attractive location for investment.\n",
    "\n",
    "- Property Size Recommendations:\n",
    "\n",
    "1. Properties with 13 bedrooms: These properties have an average size of 5,665 square feet, indicating potential investment opportunities in larger properties.\n",
    "\n",
    "2. Properties with 14 bedrooms: Consider properties with an average size of 5,104 square feet for potential investment.\n",
    "\n",
    "3. Properties with 15 bedrooms: Look into properties with an average size of 5,100 square feet as potential investment options.\n",
    "\n",
    "- Price Recommendations:\n",
    "\n",
    "1. Properties with a house size of 5,709 square feet: These properties have an average price of $15,300,000, indicating potential high-value investment opportunities.\n",
    "\n",
    "2. Properties with a house size of 4,706 square feet: Consider properties of this size with an average price of $15,000,000 for investment consideration.\n",
    "\n",
    "3. Properties with a house size of 4,244 square feet: Look into properties with an average price of $14,500,000 and this size for potential investments.\n",
    "\n",
    "These recommendations are based on the average price, property size, and location factors identified in the dataset. It's important to conduct further research, due diligence, and consider additional factors such as market demand, property condition, and economic indicators before making any investment decisions. Consulting with real estate professionals or investment advisors can provide valuable insights and guidance tailored to your specific investment goals and preferences.\n"
   ]
  },
  {
   "cell_type": "code",
   "execution_count": null,
   "id": "a6f02182",
   "metadata": {},
   "outputs": [],
   "source": []
  }
 ],
 "metadata": {
  "kernelspec": {
   "display_name": "Python 3 (ipykernel)",
   "language": "python",
   "name": "python3"
  },
  "language_info": {
   "codemirror_mode": {
    "name": "ipython",
    "version": 3
   },
   "file_extension": ".py",
   "mimetype": "text/x-python",
   "name": "python",
   "nbconvert_exporter": "python",
   "pygments_lexer": "ipython3",
   "version": "3.10.9"
  }
 },
 "nbformat": 4,
 "nbformat_minor": 5
}
